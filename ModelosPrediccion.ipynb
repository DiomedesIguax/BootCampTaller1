{
  "nbformat": 4,
  "nbformat_minor": 0,
  "metadata": {
    "colab": {
      "provenance": [],
      "authorship_tag": "ABX9TyNglsjLJOw+gmDq2kXkP9Lv",
      "include_colab_link": true
    },
    "kernelspec": {
      "name": "python3",
      "display_name": "Python 3"
    },
    "language_info": {
      "name": "python"
    }
  },
  "cells": [
    {
      "cell_type": "markdown",
      "metadata": {
        "id": "view-in-github",
        "colab_type": "text"
      },
      "source": [
        "<a href=\"https://colab.research.google.com/github/DiomedesIguax/BootCampTaller1/blob/17032024Titanic/ModelosPrediccion.ipynb\" target=\"_parent\"><img src=\"https://colab.research.google.com/assets/colab-badge.svg\" alt=\"Open In Colab\"/></a>"
      ]
    },
    {
      "cell_type": "code",
      "execution_count": null,
      "metadata": {
        "id": "fzlBXm_zjhpO"
      },
      "outputs": [],
      "source": [
        "#Importar Bibliotecas\n",
        "from  sklearn.datasets import load_iris\n",
        "from  sklearn.model_selection  import train_test_split, cross_val_score\n",
        "from  sklearn.linear_model import LogisticRegression\n",
        "from  sklearn.svm import SVC\n",
        "from  sklearn.tree import DecisionTreeClassifier\n",
        "from  sklearn.metrics import confusion_matrix, accuracy_score, precision_score, recall_score,f1_score\n",
        "import seaborn as sns\n",
        "import matplotlib.pyplot as plt"
      ]
    },
    {
      "cell_type": "code",
      "source": [
        "# Cargar los Datos\n",
        "iris = load_iris()\n",
        "x = iris.data\n",
        "y = iris.target\n",
        "x_train, x_test, y_train, y_test = train_test_split(x, y, test_size=0.2, random_state=42)\n"
      ],
      "metadata": {
        "id": "wvhxPvqFj-74"
      },
      "execution_count": null,
      "outputs": []
    },
    {
      "cell_type": "code",
      "source": [
        "#Modelos\n",
        "models={\n",
        "    'Regresión Logística' : LogisticRegression(max_iter=200),\n",
        "    'Máquinas de soporte vectorial' : SVC(),\n",
        "    'Árbol de Decisión' : DecisionTreeClassifier()\n",
        "}"
      ],
      "metadata": {
        "id": "NnJqQXoslHRb"
      },
      "execution_count": null,
      "outputs": []
    },
    {
      "cell_type": "code",
      "source": [
        "for name, model in models.items():\n",
        "  #Entreanmiento\n",
        "  model.fit(x_train, y_train)\n",
        "  #Predicción\n",
        "  y_pred=model.predict(x_test)\n",
        "  #Métricas de rendimiento\n",
        "\n",
        "  accuracy= accuracy_score(y_test, y_pred)\n",
        "  precission=precision_score(y_test, y_pred, average='macro')\n",
        "  recall=recall_score(y_test, y_pred, average='macro')\n",
        "  f1=f1_score(y_test, y_pred, average='macro')\n",
        "\n",
        "  cross_val= cross_val_score(model, x ,y, cv=5)\n",
        "  conf_matrix = confusion_matrix(y_test, y_pred)\n",
        "  sns.heatmap(conf_matrix, annot=True)\n",
        "  plt.title(f'Matriz de confusión - {name}')\n",
        "  plt.show()\n",
        "\n",
        "  print(\"______________________________________________________________________________\")\n",
        "  print('\\n\\033[1mModelo:\\033[0m')\n",
        "  print(f'Modelo: {name}')\n",
        "  print(f'Precisión: {accuracy}')\n",
        "  print(f'Precisión: {precission}')\n",
        "  print(f'Recall: {recall}')\n",
        "  print(f'F1-Score: {f1}')\n",
        "  print(f'Validación Cruzada(5 -folds): {cross_val.mean()}')\n",
        "  print(\"______________________________________________________________________________\")\n",
        "\n"
      ],
      "metadata": {
        "colab": {
          "base_uri": "https://localhost:8080/",
          "height": 1000
        },
        "id": "t1mJJoJ_lyl5",
        "outputId": "a6a40836-4111-4ec0-9fb7-288a22b2e610"
      },
      "execution_count": null,
      "outputs": [
        {
          "output_type": "display_data",
          "data": {
            "text/plain": [
              "<Figure size 640x480 with 2 Axes>"
            ],
            "image/png": "[encoded data removed]"
          },
          "metadata": {}
        },
        {
          "output_type": "stream",
          "name": "stdout",
          "text": [
            "______________________________________________________________________________\n",
            "\n",
            "\u001b[1mModelo:\u001b[0m\n",
            "Modelo: Regresión Logística\n",
            "Precisión: 1.0\n",
            "Precisión: 1.0\n",
            "Recall: 1.0\n",
            "F1-Score: 1.0\n",
            "Validación Cruzada(5 -folds): 0.9733333333333334\n",
            "______________________________________________________________________________\n"
          ]
        },
        {
          "output_type": "display_data",
          "data": {
            "text/plain": [
              "<Figure size 640x480 with 2 Axes>"
            ],
            "image/png": "[encoded data removed]"
          },
          "metadata": {}
        },
        {
          "output_type": "stream",
          "name": "stdout",
          "text": [
            "______________________________________________________________________________\n",
            "\n",
            "\u001b[1mModelo:\u001b[0m\n",
            "Modelo: Máquinas de soporte vectorial\n",
            "Precisión: 1.0\n",
            "Precisión: 1.0\n",
            "Recall: 1.0\n",
            "F1-Score: 1.0\n",
            "Validación Cruzada(5 -folds): 0.9666666666666666\n",
            "______________________________________________________________________________\n"
          ]
        },
        {
          "output_type": "display_data",
          "data": {
            "text/plain": [
              "<Figure size 640x480 with 2 Axes>"
            ],
            "image/png": "[encoded data removed]"
          },
          "metadata": {}
        },
        {
          "output_type": "stream",
          "name": "stdout",
          "text": [
            "______________________________________________________________________________\n",
            "\n",
            "\u001b[1mModelo:\u001b[0m\n",
            "Modelo: Árbol de Decisión\n",
            "Precisión: 1.0\n",
            "Precisión: 1.0\n",
            "Recall: 1.0\n",
            "F1-Score: 1.0\n",
            "Validación Cruzada(5 -folds): 0.9600000000000002\n",
            "______________________________________________________________________________\n"
          ]
        }
      ]
    },
    {
      "cell_type": "code",
      "source": [
        "#Importar Bibliotecas\n",
        "from  sklearn.datasets import load_wine\n",
        "from  sklearn.model_selection  import train_test_split, cross_val_score\n",
        "from  sklearn.linear_model import LogisticRegression\n",
        "from  sklearn.svm import SVC\n",
        "from  sklearn.tree import DecisionTreeClassifier\n",
        "from  sklearn.metrics import confusion_matrix, accuracy_score, precision_score, recall_score,f1_score\n",
        "import seaborn as sns\n",
        "import matplotlib.pyplot as plt\n",
        "import pandas as pd\n",
        "import numpy as np\n"
      ],
      "metadata": {
        "id": "KXJD1KI9uokw"
      },
      "execution_count": 4,
      "outputs": []
    },
    {
      "cell_type": "code",
      "source": [
        "# Cargar datos\n",
        "wine = load_wine()\n",
        "\n",
        "# Convertir a pandas DataFrame\n",
        "data = pd.DataFrame(data=np.c_[wine['data'], wine['target']], columns=wine['feature_names']+['target'])\n",
        "print(data.info())\n"
      ],
      "metadata": {
        "colab": {
          "base_uri": "https://localhost:8080/"
        },
        "id": "SH-0qkb6u09g",
        "outputId": "4f9b7309-03e8-4ffc-a657-cd81da0f1bb3"
      },
      "execution_count": 5,
      "outputs": [
        {
          "output_type": "stream",
          "name": "stdout",
          "text": [
            "<class 'pandas.core.frame.DataFrame'>\n",
            "RangeIndex: 178 entries, 0 to 177\n",
            "Data columns (total 14 columns):\n",
            " #   Column                        Non-Null Count  Dtype  \n",
            "---  ------                        --------------  -----  \n",
            " 0   alcohol                       178 non-null    float64\n",
            " 1   malic_acid                    178 non-null    float64\n",
            " 2   ash                           178 non-null    float64\n",
            " 3   alcalinity_of_ash             178 non-null    float64\n",
            " 4   magnesium                     178 non-null    float64\n",
            " 5   total_phenols                 178 non-null    float64\n",
            " 6   flavanoids                    178 non-null    float64\n",
            " 7   nonflavanoid_phenols          178 non-null    float64\n",
            " 8   proanthocyanins               178 non-null    float64\n",
            " 9   color_intensity               178 non-null    float64\n",
            " 10  hue                           178 non-null    float64\n",
            " 11  od280/od315_of_diluted_wines  178 non-null    float64\n",
            " 12  proline                       178 non-null    float64\n",
            " 13  target                        178 non-null    float64\n",
            "dtypes: float64(14)\n",
            "memory usage: 19.6 KB\n",
            "None\n"
          ]
        }
      ]
    },
    {
      "cell_type": "code",
      "source": [
        "x = wine.data\n",
        "y = wine.target\n",
        "x_train, x_test, y_train, y_test = train_test_split(x, y, test_size=0.2, random_state=42)\n"
      ],
      "metadata": {
        "id": "Sq0fwNWYNXA3"
      },
      "execution_count": 9,
      "outputs": []
    },
    {
      "cell_type": "code",
      "source": [
        "#Modelos\n",
        "models={\n",
        "    'Regresión Logística' : LogisticRegression(max_iter=200),\n",
        "    'Máquinas de soporte vectorial' : SVC(),\n",
        "    'Árbol de Decisión' : DecisionTreeClassifier()\n",
        "}\n",
        "\n",
        "for name, model in models.items():\n",
        "  #Entreanmiento\n",
        "  model.fit(x_train, y_train)\n",
        "\n",
        "  #Predicción\n",
        "  y_pred=model.predict(x_test)\n",
        "\n",
        "  #Métricas de rendimiento\n",
        "  accuracy= accuracy_score(y_test, y_pred)\n",
        "  precission=precision_score(y_test, y_pred, average='macro')\n",
        "  recall=recall_score(y_test, y_pred, average='macro')\n",
        "  f1=f1_score(y_test, y_pred, average='macro')\n",
        "\n",
        "  #Validación Cruzada\n",
        "  cross_val= cross_val_score(model, x ,y, cv=5)\n",
        "\n",
        "  #Matriz de confusión\n",
        "  conf_matrix = confusion_matrix(y_test, y_pred)\n",
        "  sns.heatmap(conf_matrix, annot=True)\n",
        "  plt.title(f'Matriz de confusión - {name}')\n",
        "  plt.show()\n",
        "\n",
        "  print(\"______________________________________________________________________________\")\n",
        "  print('\\n\\033[1mModelo:\\033[0m')\n",
        "  print(f'Modelo: {name}')\n",
        "  print(f'Precisión: {accuracy}')\n",
        "  print(f'Precisión: {precission}')\n",
        "  print(f'Recall: {recall}')\n",
        "  print(f'F1-Score: {f1}')\n",
        "  print(f'Validación Cruzada(5 -folds): {cross_val.mean()}')\n",
        "  print(\"______________________________________________________________________________\")\n"
      ],
      "metadata": {
        "colab": {
          "base_uri": "https://localhost:8080/",
          "height": 1000
        },
        "id": "IH9Ozv_uOJVJ",
        "outputId": "2d3cf586-e20e-4a53-c03a-4bbe5700be8d"
      },
      "execution_count": 11,
      "outputs": [
        {
          "output_type": "stream",
          "name": "stderr",
          "text": [
            "/usr/local/lib/python3.10/dist-packages/sklearn/linear_model/_logistic.py:458: ConvergenceWarning: lbfgs failed to converge (status=1):\n",
            "STOP: TOTAL NO. of ITERATIONS REACHED LIMIT.\n",
            "\n",
            "Increase the number of iterations (max_iter) or scale the data as shown in:\n",
            "    https://scikit-learn.org/stable/modules/preprocessing.html\n",
            "Please also refer to the documentation for alternative solver options:\n",
            "    https://scikit-learn.org/stable/modules/linear_model.html#logistic-regression\n",
            "  n_iter_i = _check_optimize_result(\n",
            "/usr/local/lib/python3.10/dist-packages/sklearn/linear_model/_logistic.py:458: ConvergenceWarning: lbfgs failed to converge (status=1):\n",
            "STOP: TOTAL NO. of ITERATIONS REACHED LIMIT.\n",
            "\n",
            "Increase the number of iterations (max_iter) or scale the data as shown in:\n",
            "    https://scikit-learn.org/stable/modules/preprocessing.html\n",
            "Please also refer to the documentation for alternative solver options:\n",
            "    https://scikit-learn.org/stable/modules/linear_model.html#logistic-regression\n",
            "  n_iter_i = _check_optimize_result(\n",
            "/usr/local/lib/python3.10/dist-packages/sklearn/linear_model/_logistic.py:458: ConvergenceWarning: lbfgs failed to converge (status=1):\n",
            "STOP: TOTAL NO. of ITERATIONS REACHED LIMIT.\n",
            "\n",
            "Increase the number of iterations (max_iter) or scale the data as shown in:\n",
            "    https://scikit-learn.org/stable/modules/preprocessing.html\n",
            "Please also refer to the documentation for alternative solver options:\n",
            "    https://scikit-learn.org/stable/modules/linear_model.html#logistic-regression\n",
            "  n_iter_i = _check_optimize_result(\n",
            "/usr/local/lib/python3.10/dist-packages/sklearn/linear_model/_logistic.py:458: ConvergenceWarning: lbfgs failed to converge (status=1):\n",
            "STOP: TOTAL NO. of ITERATIONS REACHED LIMIT.\n",
            "\n",
            "Increase the number of iterations (max_iter) or scale the data as shown in:\n",
            "    https://scikit-learn.org/stable/modules/preprocessing.html\n",
            "Please also refer to the documentation for alternative solver options:\n",
            "    https://scikit-learn.org/stable/modules/linear_model.html#logistic-regression\n",
            "  n_iter_i = _check_optimize_result(\n",
            "/usr/local/lib/python3.10/dist-packages/sklearn/linear_model/_logistic.py:458: ConvergenceWarning: lbfgs failed to converge (status=1):\n",
            "STOP: TOTAL NO. of ITERATIONS REACHED LIMIT.\n",
            "\n",
            "Increase the number of iterations (max_iter) or scale the data as shown in:\n",
            "    https://scikit-learn.org/stable/modules/preprocessing.html\n",
            "Please also refer to the documentation for alternative solver options:\n",
            "    https://scikit-learn.org/stable/modules/linear_model.html#logistic-regression\n",
            "  n_iter_i = _check_optimize_result(\n",
            "/usr/local/lib/python3.10/dist-packages/sklearn/linear_model/_logistic.py:458: ConvergenceWarning: lbfgs failed to converge (status=1):\n",
            "STOP: TOTAL NO. of ITERATIONS REACHED LIMIT.\n",
            "\n",
            "Increase the number of iterations (max_iter) or scale the data as shown in:\n",
            "    https://scikit-learn.org/stable/modules/preprocessing.html\n",
            "Please also refer to the documentation for alternative solver options:\n",
            "    https://scikit-learn.org/stable/modules/linear_model.html#logistic-regression\n",
            "  n_iter_i = _check_optimize_result(\n"
          ]
        },
        {
          "output_type": "display_data",
          "data": {
            "text/plain": [
              "<Figure size 640x480 with 2 Axes>"
            ],
            "image/png": "[encoded data removed]"
          },
          "metadata": {}
        },
        {
          "output_type": "stream",
          "name": "stdout",
          "text": [
            "______________________________________________________________________________\n",
            "\n",
            "\u001b[1mModelo:\u001b[0m\n",
            "Modelo: Regresión Logística\n",
            "Precisión: 0.9722222222222222\n",
            "Precisión: 0.9777777777777779\n",
            "Recall: 0.9761904761904763\n",
            "F1-Score: 0.9761600681140911\n",
            "Validación Cruzada(5 -folds): 0.9666666666666666\n",
            "______________________________________________________________________________\n"
          ]
        },
        {
          "output_type": "display_data",
          "data": {
            "text/plain": [
              "<Figure size 640x480 with 2 Axes>"
            ],
            "image/png": "[encoded data removed]"
          },
          "metadata": {}
        },
        {
          "output_type": "stream",
          "name": "stdout",
          "text": [
            "______________________________________________________________________________\n",
            "\n",
            "\u001b[1mModelo:\u001b[0m\n",
            "Modelo: Máquinas de soporte vectorial\n",
            "Precisión: 0.8055555555555556\n",
            "Precisión: 0.7682539682539682\n",
            "Recall: 0.7619047619047619\n",
            "F1-Score: 0.7639846743295019\n",
            "Validación Cruzada(5 -folds): 0.6634920634920635\n",
            "______________________________________________________________________________\n"
          ]
        },
        {
          "output_type": "display_data",
          "data": {
            "text/plain": [
              "<Figure size 640x480 with 2 Axes>"
            ],
            "image/png": "[encoded data removed]"
          },
          "metadata": {}
        },
        {
          "output_type": "stream",
          "name": "stdout",
          "text": [
            "______________________________________________________________________________\n",
            "\n",
            "\u001b[1mModelo:\u001b[0m\n",
            "Modelo: Árbol de Decisión\n",
            "Precisión: 0.9444444444444444\n",
            "Precisión: 0.953968253968254\n",
            "Recall: 0.9345238095238096\n",
            "F1-Score: 0.9424740010946907\n",
            "Validación Cruzada(5 -folds): 0.8765079365079365\n",
            "______________________________________________________________________________\n"
          ]
        }
      ]
    },
    {
      "cell_type": "markdown",
      "source": [
        "## **OPTIMIZACIÓN DE MODELOS**"
      ],
      "metadata": {
        "id": "y1OH5YUuRXzW"
      }
    },
    {
      "cell_type": "code",
      "source": [
        "!pip install -q scikit-optimize\n"
      ],
      "metadata": {
        "colab": {
          "base_uri": "https://localhost:8080/"
        },
        "id": "4qVih7NnW56_",
        "outputId": "b7eb6e11-fdb8-4eda-a495-71e28884a4c5"
      },
      "execution_count": 21,
      "outputs": [
        {
          "output_type": "stream",
          "name": "stdout",
          "text": [
            "\u001b[?25l     \u001b[90m━━━━━━━━━━━━━━━━━━━━━━━━━━━━━━━━━━━━━━━━\u001b[0m \u001b[32m0.0/107.7 kB\u001b[0m \u001b[31m?\u001b[0m eta \u001b[36m-:--:--\u001b[0m\r\u001b[2K     \u001b[91m━━━━━━━━━━━━━━━━━━━━━━━━━━━━━━━━━━\u001b[0m\u001b[90m╺\u001b[0m\u001b[90m━━━━━\u001b[0m \u001b[32m92.2/107.7 kB\u001b[0m \u001b[31m2.6 MB/s\u001b[0m eta \u001b[36m0:00:01\u001b[0m\r\u001b[2K     \u001b[90m━━━━━━━━━━━━━━━━━━━━━━━━━━━━━━━━━━━━━━━━\u001b[0m \u001b[32m107.7/107.7 kB\u001b[0m \u001b[31m1.9 MB/s\u001b[0m eta \u001b[36m0:00:00\u001b[0m\n",
            "\u001b[?25h"
          ]
        }
      ]
    },
    {
      "cell_type": "code",
      "source": [
        "\n",
        "\n",
        "# Importar Bibliotecas\n",
        "from sklearn.datasets import load_iris\n",
        "from sklearn.model_selection import train_test_split, GridSearchCV, RandomizedSearchCV\n",
        "from sklearn.linear_model import LogisticRegression\n",
        "from sklearn.svm import SVC\n",
        "from sklearn.tree import DecisionTreeClassifier\n",
        "from sklearn.metrics import confusion_matrix, accuracy_score, precision_score, recall_score, f1_score\n",
        "import seaborn as sns\n",
        "import matplotlib.pyplot as plt\n",
        "import pandas as pd\n",
        "import numpy as np\n",
        "from skopt import BayesSearchCV\n",
        "from scipy.stats import uniform\n",
        "\n",
        "# Cargar datos\n",
        "iris = load_iris()\n",
        "\n",
        "# Convertir a pandas DataFrame\n",
        "iris_df = pd.DataFrame(data=iris['data'], columns=iris['feature_names'])\n",
        "iris_df['target'] = iris['target']\n",
        "\n",
        "# Mostrar las primeras filas del conjunto de datos\n",
        "print(iris_df.head())\n",
        "print(iris_df.info())\n",
        "\n",
        "# Dividir el conjunto de Datos en entrenamiento y prueba\n",
        "x = iris_df.drop('target', axis=1)\n",
        "y = iris_df['target']\n",
        "x_train, x_test, y_train, y_test = train_test_split(x, y, test_size=0.2, random_state=42)\n",
        "\n",
        "# Definir el modelo SVM\n",
        "svm_model = SVC()\n",
        "\n",
        "# Definir la Cuadrícula de hiperpárametros\n",
        "param_grid = {\n",
        "    'C': [0.1, 1, 10, 100],\n",
        "    'kernel': ['linear', 'rbf'],\n",
        "    'gamma': ['scale', 'auto']\n",
        "}\n",
        "\n",
        "# Crear el Objeto GridSearchCV\n",
        "grid_search = GridSearchCV(estimator=svm_model, param_grid=param_grid, cv=5)\n",
        "\n",
        "# Ajustar el modelo utilizando la búsqueda en grid\n",
        "grid_search.fit(x_train, y_train)\n",
        "\n",
        "# Obtener los mejores híperpárametros encontrados\n",
        "best_params_grid_search = grid_search.best_params_\n",
        "print(\"Los mejores híperparámetros encontrados con GridSearchCV son:\", best_params_grid_search)\n",
        "\n",
        "# Definir la distribución de hiperparámetros\n",
        "param_dist = {\n",
        "    'C': uniform(0.1, 1),\n",
        "    'kernel': ['linear', 'rbf'],\n",
        "    'gamma': ['scale', 'auto']\n",
        "}\n",
        "\n",
        "# Crear el Objeto RandomizedSearchCV\n",
        "random_search = RandomizedSearchCV(estimator=svm_model, param_distributions=param_dist, n_iter=100, cv=5, random_state=2)\n",
        "\n",
        "# Ajustar el modelo utilizando la búsqueda Aleatoria\n",
        "random_search.fit(x_train, y_train)\n",
        "\n",
        "# Obtener los mejores híperpárametros encontrados\n",
        "best_params_random_search = random_search.best_params_\n",
        "print(\"Los mejores híperparámetros encontrados con RandomizedSearchCV son:\", best_params_random_search)\n",
        "\n",
        "# Definir un espacio de búsqueda reducido para la optimización Bayesiana\n",
        "param_space_reduced = {\n",
        "    'C': (0.1, 100),\n",
        "    'kernel': ['linear', 'rbf'],\n",
        "    'gamma': ['scale', 'auto']\n",
        "}\n",
        "\n",
        "# Crear el Objeto BayeSearchCV con número reducido de iteracciones\n",
        "bayes_search = BayesSearchCV(estimator=svm_model, search_spaces=param_space_reduced, n_iter=25, cv=5, random_state=2)\n",
        "\n",
        "# Ajustar el modelo utilizando la Optimización Bayesiana con el espacio reducido\n",
        "bayes_search.fit(x_train, y_train)\n",
        "\n",
        "# Obtener los mejores híperpárametros encontrados\n",
        "best_params_bayes_search_reduced = bayes_search.best_params_\n",
        "print(\"Los mejores híperparámetros encontrados con BayesSearchCV son:\", best_params_bayes_search_reduced)\n"
      ],
      "metadata": {
        "colab": {
          "base_uri": "https://localhost:8080/"
        },
        "id": "Oc9XmtlqRchr",
        "outputId": "f3477a8f-1a39-46a3-fa5f-dbd89ecee060"
      },
      "execution_count": 24,
      "outputs": [
        {
          "output_type": "stream",
          "name": "stdout",
          "text": [
            "   sepal length (cm)  sepal width (cm)  petal length (cm)  petal width (cm)  \\\n",
            "0                5.1               3.5                1.4               0.2   \n",
            "1                4.9               3.0                1.4               0.2   \n",
            "2                4.7               3.2                1.3               0.2   \n",
            "3                4.6               3.1                1.5               0.2   \n",
            "4                5.0               3.6                1.4               0.2   \n",
            "\n",
            "   target  \n",
            "0       0  \n",
            "1       0  \n",
            "2       0  \n",
            "3       0  \n",
            "4       0  \n",
            "<class 'pandas.core.frame.DataFrame'>\n",
            "RangeIndex: 150 entries, 0 to 149\n",
            "Data columns (total 5 columns):\n",
            " #   Column             Non-Null Count  Dtype  \n",
            "---  ------             --------------  -----  \n",
            " 0   sepal length (cm)  150 non-null    float64\n",
            " 1   sepal width (cm)   150 non-null    float64\n",
            " 2   petal length (cm)  150 non-null    float64\n",
            " 3   petal width (cm)   150 non-null    float64\n",
            " 4   target             150 non-null    int64  \n",
            "dtypes: float64(4), int64(1)\n",
            "memory usage: 6.0 KB\n",
            "None\n",
            "Los mejores híperparámetros encontrados con GridSearchCV son: {'C': 1, 'gamma': 'scale', 'kernel': 'linear'}\n",
            "Los mejores híperparámetros encontrados con RandomizedSearchCV son: {'C': 0.9002583511325868, 'gamma': 'scale', 'kernel': 'linear'}\n",
            "Los mejores híperparámetros encontrados con BayesSearchCV son: OrderedDict([('C', 2.9641259502906707), ('gamma', 'auto'), ('kernel', 'linear')])\n"
          ]
        }
      ]
    },
    {
      "cell_type": "markdown",
      "source": [
        "# Los mejores híperparámetros\n",
        "---\n",
        "---\n",
        "\n",
        "**Los mejores híperparámetros encontrados con GridSearchCV son: {'C': 1, 'gamma': 'scale', 'kernel': 'linear'}**\n",
        "\n",
        "---\n",
        "\n",
        "**Los mejores híperparámetros encontrados con RandomizedSearchCV son: {'C': 0.9002583511325868, 'gamma': 'scale', 'kernel': 'linear'}**\n",
        "\n",
        "\n",
        "---\n",
        "\n",
        "**Los mejores híperparámetros encontrados con BayesSearchCV son: OrderedDict([('C', 2.9641259502906707), ('gamma', 'auto'), ('kernel', 'linear')])**\n",
        "\n",
        "---"
      ],
      "metadata": {
        "id": "7rNLUaClZzPT"
      }
    },
    {
      "cell_type": "code",
      "source": [
        "from sklearn.metrics import accuracy_score\n",
        "\n",
        "# Evaluar el modelo obtenido con la búsqueda en la grid\n",
        "grid_search_model = grid_search.best_estimator_\n",
        "grid_search_predictions = grid_search_model.predict(x_test)\n",
        "grid_search_accuracy = accuracy_score(y_test, grid_search_predictions)\n",
        "\n",
        "# Evaluar el modelo obtenido con la búsqueda Aleatoria\n",
        "random_search_model = random_search.best_estimator_\n",
        "random_search_predictions = random_search_model.predict(x_test)\n",
        "random_search_accuracy = accuracy_score(y_test, random_search_predictions)\n",
        "\n",
        "# Evaluar el modelo obtenido con la optimización Bayesiana\n",
        "bayes_search_model = bayes_search.best_estimator_\n",
        "bayes_search_predictions = bayes_search_model.predict(x_test)\n",
        "bayes_search_accuracy = accuracy_score(y_test, bayes_search_predictions)\n",
        "\n",
        "grid_search_accuracy, random_search_accuracy, bayes_search_accuracy\n"
      ],
      "metadata": {
        "colab": {
          "base_uri": "https://localhost:8080/"
        },
        "id": "rnLV__a5aSWn",
        "outputId": "82b5df56-65d7-4e7d-8b48-e2e41bf2d742"
      },
      "execution_count": 26,
      "outputs": [
        {
          "output_type": "execute_result",
          "data": {
            "text/plain": [
              "(1.0, 1.0, 1.0)"
            ]
          },
          "metadata": {},
          "execution_count": 26
        }
      ]
    },
    {
      "cell_type": "markdown",
      "source": [
        "# **VALIDACION CRUZADA**"
      ],
      "metadata": {
        "id": "vh822tAdc1oa"
      }
    },
    {
      "cell_type": "code",
      "source": [
        "# Utilizar el mejor modelo encontrado por la búsqueda en grid\n",
        "best_model = grid_search.best_estimator_\n",
        "\n",
        "# Realizar una validación cruzada de 5 pliegues en el conjunto de datos completo (x, y)\n",
        "cvscores = cross_val_score(best_model, x, y, cv=5)\n",
        "\n",
        "# Calcular la media y la desviación estándar de los puntajes de validación cruzada\n",
        "cv_mean = cvscores.mean()\n",
        "cv_std = cvscores.std()\n",
        "\n",
        "cv_mean, cv_std\n"
      ],
      "metadata": {
        "colab": {
          "base_uri": "https://localhost:8080/"
        },
        "id": "dxXtQa5Hc9Y4",
        "outputId": "f8540833-a544-4e4a-eb07-48ff97395378"
      },
      "execution_count": 28,
      "outputs": [
        {
          "output_type": "execute_result",
          "data": {
            "text/plain": [
              "(0.9800000000000001, 0.016329931618554516)"
            ]
          },
          "metadata": {},
          "execution_count": 28
        }
      ]
    },
    {
      "cell_type": "code",
      "source": [
        "# Utilizar el mejor modelo encontrado por la búsqueda en aleatoria\n",
        "best_model_random_search = random_search.best_estimator_\n",
        "\n",
        "# Utilizar el mejor modelo encontrado por la optimización Bayesiana\n",
        "best_model_bayes_search = bayes_search.best_estimator_\n",
        "\n",
        "# Realizar una validación cruzada de 5 pliegues para cada modelo\n",
        "cv_scores_grid_search = cross_val_score(best_model, x, y, cv=5)\n",
        "cv_scores_random_search = cross_val_score(best_model_random_search, x, y, cv=5)\n",
        "cv_scores_bayes_search = cross_val_score(best_model_bayes_search, x, y, cv=5)\n",
        "\n",
        "# Calcular la media y la desviación estándar de los puntajes de validación cruzada para cada modelo\n",
        "cv_mean_grid_search, cv_std_grid_search = cv_scores_grid_search.mean(), cv_scores_grid_search.std()\n",
        "cv_mean_random_search, cv_std_random_search = cv_scores_random_search.mean(), cv_scores_random_search.std()\n",
        "cv_mean_bayes_search, cv_std_bayes_search = cv_scores_bayes_search.mean(), cv_scores_bayes_search.std()\n",
        "\n",
        "\n",
        "\n",
        "# Imprimir los resultados\n",
        "print(\"Resultados de la búsqueda en Grid:\")\n",
        "print(\"Media de la validación cruzada:\", cv_mean_grid_search)\n",
        "print(\"Desviación estándar de la validación cruzada:\", cv_std_grid_search)\n",
        "print(\"\\nResultados de la búsqueda Aleatoria:\")\n",
        "print(\"Media de la validación cruzada:\", cv_mean_random_search)\n",
        "print(\"Desviación estándar de la validación cruzada:\", cv_std_random_search)\n",
        "print(\"\\nResultados de la Optimización Bayesiana:\")\n",
        "print(\"Media de la validación cruzada:\", cv_mean_bayes_search)\n",
        "print(\"Desviación estándar de la validación cruzada:\", cv_std_bayes_search)"
      ],
      "metadata": {
        "colab": {
          "base_uri": "https://localhost:8080/"
        },
        "id": "v-iCcbh2eH-P",
        "outputId": "bb0a342c-aa80-4492-afbf-f17729a09d0c"
      },
      "execution_count": 30,
      "outputs": [
        {
          "output_type": "stream",
          "name": "stdout",
          "text": [
            "Resultados de la búsqueda en Grid:\n",
            "Media de la validación cruzada: 0.9800000000000001\n",
            "Desviación estándar de la validación cruzada: 0.016329931618554516\n",
            "\n",
            "Resultados de la búsqueda Aleatoria:\n",
            "Media de la validación cruzada: 0.9866666666666667\n",
            "Desviación estándar de la validación cruzada: 0.01632993161855452\n",
            "\n",
            "Resultados de la Optimización Bayesiana:\n",
            "Media de la validación cruzada: 0.9733333333333334\n",
            "Desviación estándar de la validación cruzada: 0.02494438257849294\n"
          ]
        }
      ]
    },
    {
      "cell_type": "markdown",
      "source": [],
      "metadata": {
        "id": "X9CvQChTanC9"
      }
    }
  ]
}