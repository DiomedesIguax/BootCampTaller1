{
  "nbformat": 4,
  "nbformat_minor": 0,
  "metadata": {
    "colab": {
      "provenance": [],
      "authorship_tag": "ABX9TyO9jdJtruolTi/JQ9CZhXkE",
      "include_colab_link": true
    },
    "kernelspec": {
      "name": "python3",
      "display_name": "Python 3"
    },
    "language_info": {
      "name": "python"
    }
  },
  "cells": [
    {
      "cell_type": "markdown",
      "metadata": {
        "id": "view-in-github",
        "colab_type": "text"
      },
      "source": [
        "<a href=\"https://colab.research.google.com/github/DiomedesIguax/BootCampTaller1/blob/17032024Titanic/AprendizajeAutomatico.ipynb\" target=\"_parent\"><img src=\"https://colab.research.google.com/assets/colab-badge.svg\" alt=\"Open In Colab\"/></a>"
      ]
    },
    {
      "cell_type": "markdown",
      "source": [
        "# RED CONVULSIONAL"
      ],
      "metadata": {
        "id": "tIy7BY_Yno-Q"
      }
    },
    {
      "cell_type": "code",
      "execution_count": 2,
      "metadata": {
        "colab": {
          "base_uri": "https://localhost:8080/",
          "height": 857
        },
        "id": "IYEP2WK6jzpd",
        "outputId": "074a7996-9607-4a25-a274-4ad9091f98bf"
      },
      "outputs": [
        {
          "output_type": "stream",
          "name": "stdout",
          "text": [
            "Downloading data from https://www.cs.toronto.edu/~kriz/cifar-10-python.tar.gz\n",
            "170498071/170498071 [==============================] - 11s 0us/step\n",
            "Epoch 1/10\n",
            "1563/1563 [==============================] - 88s 56ms/step - loss: 2.6449 - accuracy: 0.2148 - val_loss: 1.9545 - val_accuracy: 0.3062\n",
            "Epoch 2/10\n",
            "1563/1563 [==============================] - 97s 62ms/step - loss: 2.2522 - accuracy: 0.1050 - val_loss: 2.3026 - val_accuracy: 0.1000\n",
            "Epoch 3/10\n",
            "1563/1563 [==============================] - 93s 59ms/step - loss: 2.2875 - accuracy: 0.1053 - val_loss: 2.3026 - val_accuracy: 0.1000\n",
            "Epoch 4/10\n",
            "1563/1563 [==============================] - 92s 59ms/step - loss: 2.3026 - accuracy: 0.1000 - val_loss: 2.3026 - val_accuracy: 0.1000\n",
            "Epoch 5/10\n",
            "1563/1563 [==============================] - 110s 70ms/step - loss: 2.3025 - accuracy: 0.1000 - val_loss: 2.3026 - val_accuracy: 0.1000\n",
            "Epoch 6/10\n",
            "1563/1563 [==============================] - 94s 60ms/step - loss: 2.3026 - accuracy: 0.1000 - val_loss: 2.3026 - val_accuracy: 0.1000\n",
            "Epoch 7/10\n",
            "1563/1563 [==============================] - 92s 59ms/step - loss: 2.3026 - accuracy: 0.1000 - val_loss: 2.3026 - val_accuracy: 0.1000\n",
            "Epoch 8/10\n",
            "1563/1563 [==============================] - 95s 61ms/step - loss: 2.3026 - accuracy: 0.1000 - val_loss: 2.3026 - val_accuracy: 0.1000\n",
            "Epoch 9/10\n",
            "1563/1563 [==============================] - 93s 59ms/step - loss: 2.3026 - accuracy: 0.1000 - val_loss: 2.3026 - val_accuracy: 0.1000\n",
            "Epoch 10/10\n",
            "1563/1563 [==============================] - 108s 69ms/step - loss: 2.3026 - accuracy: 0.1000 - val_loss: 2.3026 - val_accuracy: 0.1000\n"
          ]
        },
        {
          "output_type": "display_data",
          "data": {
            "text/plain": [
              "<Figure size 640x480 with 1 Axes>"
            ],
            "image/png": "[encoded data removed]"
          },
          "metadata": {}
        }
      ],
      "source": [
        "#Importar Bibliotecas\n",
        "import tensorflow as tf\n",
        "from tensorflow.keras import layers, models\n",
        "from tensorflow.keras.datasets import cifar10\n",
        "import matplotlib.pyplot as plt\n",
        "\n",
        "#Cargar y preprocesar el conjunto de datos CIFAR10\n",
        "(train_images, train_labels), (test_images, test_labels) = cifar10.load_data()\n",
        "train_images, test_images = train_images / 255.0, test_images / 255.0\n",
        "\n",
        "#Construir la arquitectura de la CNN\n",
        "model = models.Sequential([\n",
        "    layers.Conv2D(32, (3, 3), activation='relu', input_shape=(32, 32, 3)),\n",
        "    layers.MaxPooling2D((2, 2)),\n",
        "    layers.Conv2D(64, (3, 3), activation='relu'),\n",
        "    layers.MaxPooling2D((2, 2)),\n",
        "    layers.Conv2D(64, (3, 3), activation='relu'),\n",
        "    layers.Flatten(),\n",
        "    layers.Dense(64, activation='relu'),\n",
        "    layers.Dense(10)\n",
        "])\n",
        "\n",
        "#Compilar el modelo\n",
        "model.compile(optimizer='adam',\n",
        "              loss=tf.keras.losses.sparse_categorical_crossentropy,\n",
        "              metrics=['accuracy'])\n",
        "\n",
        "#Entrenar el modelo\n",
        "hist = model.fit(train_images, train_labels, epochs=10,\n",
        "                 validation_data=(test_images, test_labels))\n",
        "\n",
        "#Visualizar los resultados\n",
        "plt.plot(hist.history['accuracy'], label='accuracy')\n",
        "plt.plot(hist.history['val_accuracy'], label='val_accuracy')\n",
        "plt.xlabel('Epoch')\n",
        "plt.ylabel('Accuracy')\n",
        "plt.ylim([0, 1])\n",
        "plt.legend(loc='lower right')\n",
        "plt.show()\n"
      ]
    },
    {
      "cell_type": "markdown",
      "source": [],
      "metadata": {
        "id": "GcVumfr-nnLX"
      }
    },
    {
      "cell_type": "markdown",
      "source": [
        "# PROCESAMIENTO DE LENGUAJE NATURAL"
      ],
      "metadata": {
        "id": "BGwhl5tIoJ2r"
      }
    },
    {
      "cell_type": "code",
      "source": [
        "# Importar las Librerias\n",
        "from keras.datasets import imdb\n",
        "from sklearn.feature_extraction.text import TfidfVectorizer\n",
        "from sklearn.model_selection import train_test_split\n",
        "from sklearn.svm import SVC\n",
        "from sklearn.metrics import accuracy_score\n",
        "import numpy as np\n",
        "\n",
        "# Cargar el conjunto de datos IMDB\n",
        "(reviews_train_data, labels_train), (reviews_test_data, labels_test) = imdb.load_data()\n",
        "\n",
        "# Decodificar las reseñas a texto\n",
        "word_index = imdb.get_word_index()\n",
        "reverse_word_index = dict([(value, key) for (key, value) in word_index.items()])\n",
        "reviews_train = [' '.join([reverse_word_index.get(i - 3, '?') for i in review]) for review in reviews_train_data]\n",
        "reviews_test = [' '.join([reverse_word_index.get(i - 3, '?') for i in review]) for review in reviews_test_data]\n",
        "labels = np.concatenate([labels_train, labels_test])\n",
        "\n",
        "# Tomar una muestra más pequeña del conjunto de datos\n",
        "sample_size = 5000\n",
        "reviews_sample = reviews_train[:sample_size]\n",
        "labels_sample = labels[:sample_size]\n",
        "\n",
        "# Dividir el conjunto de datos en entrenamiento y prueba\n",
        "reviews_train, reviews_test, labels_train, labels_test = train_test_split(reviews_sample, labels_sample, test_size=0.3, random_state=42)\n",
        "\n",
        "# Utilizar TF-IDF para convertir el texto en una representación numérica\n",
        "vectorizer = TfidfVectorizer()\n",
        "x_train = vectorizer.fit_transform(reviews_train)\n",
        "x_test = vectorizer.transform(reviews_test)\n",
        "\n",
        "# Crear y entrenar una Máquina de Soporte Vectorial\n",
        "clf = SVC()\n",
        "clf.fit(x_train, labels_train)\n",
        "\n",
        "# Predecir en el conjunto de prueba\n",
        "predictions = clf.predict(x_test)\n",
        "\n",
        "# Calcular la precisión\n",
        "accuracy = accuracy_score(labels_test, predictions)\n",
        "print(\"Accuracy:\", accuracy)\n"
      ],
      "metadata": {
        "colab": {
          "base_uri": "https://localhost:8080/"
        },
        "id": "mXUNUDrNoOTw",
        "outputId": "2f58ef7e-4dc4-40e8-9c73-8b643a76c7f9"
      },
      "execution_count": 4,
      "outputs": [
        {
          "output_type": "stream",
          "name": "stdout",
          "text": [
            "Downloading data from https://storage.googleapis.com/tensorflow/tf-keras-datasets/imdb.npz\n",
            "17464789/17464789 [==============================] - 1s 0us/step\n",
            "Downloading data from https://storage.googleapis.com/tensorflow/tf-keras-datasets/imdb_word_index.json\n",
            "1641221/1641221 [==============================] - 1s 0us/step\n",
            "Accuracy: 0.8573333333333333\n"
          ]
        }
      ]
    },
    {
      "cell_type": "code",
      "source": [
        "# Importar las Librerias\n",
        "from sklearn.feature_extraction.text import TfidfVectorizer\n",
        "from sklearn.naive_bayes import MultinomialNB\n",
        "from sklearn.metrics import accuracy_score\n",
        "from sklearn.datasets import fetch_20newsgroups\n",
        "from sklearn.model_selection import train_test_split\n",
        "\n",
        "# Cargar el conjunto de datos 20 Newsgroups\n",
        "newsgroups_data = fetch_20newsgroups(subset='all')\n",
        "\n",
        "# Extraer los documentos y las etiquetas\n",
        "documents = newsgroups_data.data\n",
        "labels = newsgroups_data.target\n",
        "\n",
        "# Dividir el conjunto de datos en entrenamiento y prueba\n",
        "documents_train, documents_test, labels_train, labels_test = train_test_split(documents, labels, test_size=0.3, random_state=42)\n",
        "\n",
        "# Crear un objeto TfidfVectorizer para convertir el texto en una representación numérica\n",
        "vectorizer = TfidfVectorizer()\n",
        "\n",
        "# Ajustar y transformar los documentos de entrenamiento\n",
        "x_train = vectorizer.fit_transform(documents_train)\n",
        "\n",
        "# Transformar los documentos de prueba\n",
        "x_test = vectorizer.transform(documents_test)\n",
        "\n",
        "# Crear y entrenar un clasificador Naive Bayes\n",
        "clf = MultinomialNB()\n",
        "clf.fit(x_train, labels_train)\n",
        "\n",
        "# Predecir en el conjunto de prueba\n",
        "predictions = clf.predict(x_test)\n",
        "\n",
        "# Calcular la precisión\n",
        "accuracy = accuracy_score(labels_test, predictions)\n",
        "print(\"Accuracy:\", accuracy)\n"
      ],
      "metadata": {
        "colab": {
          "base_uri": "https://localhost:8080/"
        },
        "id": "DG4ZoSsfos98",
        "outputId": "18578d10-395a-4284-b683-4490feda0810"
      },
      "execution_count": 6,
      "outputs": [
        {
          "output_type": "stream",
          "name": "stdout",
          "text": [
            "Accuracy: 0.8363990095507605\n"
          ]
        }
      ]
    }
  ]
}